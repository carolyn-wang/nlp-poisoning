{
 "cells": [
  {
   "cell_type": "markdown",
   "id": "24a80479",
   "metadata": {},
   "source": [
    "# LOAD DATA"
   ]
  },
  {
   "cell_type": "code",
   "execution_count": 33,
   "id": "f49c548c",
   "metadata": {},
   "outputs": [],
   "source": [
    "import os\n",
    "\n",
    "os.environ[\"CUDA_VISIBLE_DEVICES\"] = \"0\""
   ]
  },
  {
   "cell_type": "code",
   "execution_count": 35,
   "id": "639a80d7",
   "metadata": {
    "scrolled": true
   },
   "outputs": [],
   "source": [
    "from sentence_transformers import SentenceTransformer\n",
    "from transformers import CLIPModel\n",
    "\n",
    "from transformers import CLIPTokenizerFast as CLIPTokenizer\n",
    "\n",
    "#model = CLIPModel.from_pretrained(\"openai/clip-vit-base-patch32\")\n",
    "#tokenizer = CLIPTokenizer.from_pretrained(\"openai/clip-vit-base-patch32\")\n",
    "\n",
    "model = SentenceTransformer('sentence-transformers/all-roberta-large-v1')\n",
    "\n",
    "model_hf = model[0].auto_model\n",
    "embeddings = model_hf.embeddings\n",
    "word_embeddings = embeddings.word_embeddings\n",
    "tokenizer = model.tokenizer"
   ]
  },
  {
   "cell_type": "code",
   "execution_count": null,
   "id": "f92ee957",
   "metadata": {},
   "outputs": [],
   "source": [
    "'''clip_text = model.text_model\n",
    "\n",
    "embeddings = clip_text.embeddings # takes tokens in, inputs_embeds out\n",
    "encoder = clip_text.encoder # takes inputs_embeds in\n",
    "final_out = clip_text.final_layer_norm\n",
    "word_embeddings = embeddings.token_embedding # nn.Embedding'''"
   ]
  },
  {
   "cell_type": "code",
   "execution_count": 36,
   "id": "4dd7dc18",
   "metadata": {},
   "outputs": [],
   "source": [
    "from datasets import load_from_disk\n",
    "negative = load_from_disk(\"negative_ds\")\n",
    "positive = load_from_disk(\"positive_ds\")\n",
    "negative_poison = load_from_disk(\"negative_poison_ds\")\n",
    "pairs = load_from_disk(\"pairs_ds\")"
   ]
  },
  {
   "cell_type": "code",
   "execution_count": 37,
   "id": "ba5bee17",
   "metadata": {},
   "outputs": [],
   "source": [
    "negative = negative.with_format('torch')\n",
    "positive = positive.with_format('torch')\n",
    "negative_poison = negative_poison.with_format('torch')"
   ]
  },
  {
   "cell_type": "code",
   "execution_count": 45,
   "id": "8854feb0",
   "metadata": {
    "scrolled": true
   },
   "outputs": [
    {
     "data": {
      "text/plain": [
       "SentenceTransformer(\n",
       "  (0): Transformer({'max_seq_length': 256, 'do_lower_case': False}) with Transformer model: RobertaModel \n",
       "  (1): Pooling({'word_embedding_dimension': 1024, 'pooling_mode_cls_token': False, 'pooling_mode_mean_tokens': True, 'pooling_mode_max_tokens': False, 'pooling_mode_mean_sqrt_len_tokens': False})\n",
       "  (2): Normalize()\n",
       ")"
      ]
     },
     "execution_count": 45,
     "metadata": {},
     "output_type": "execute_result"
    }
   ],
   "source": [
    "model.to('cuda')"
   ]
  },
  {
   "cell_type": "markdown",
   "id": "e47c2a83",
   "metadata": {},
   "source": [
    "# BUILD DATA"
   ]
  },
  {
   "cell_type": "code",
   "execution_count": null,
   "id": "7b9821a1",
   "metadata": {},
   "outputs": [],
   "source": [
    "import spacy\n",
    "\n",
    "nlp = spacy.load('en_core_web_sm')\n",
    "\n",
    "def poison_sentence(input_text, replacement_phrase):\n",
    "    '''\n",
    "    Inserts replacement_phrase into sentences.\n",
    "    Replaces the noun subject of the root word in the dependency tree.\n",
    "    '''\n",
    "\n",
    "    def try_replace(sent):\n",
    "        # find central noun\n",
    "        for child in sent.root.children:\n",
    "            if child.dep_ == \"nsubj\":\n",
    "                cent_noun = child\n",
    "\n",
    "                # try to find noun phrase\n",
    "                matching_phrases = [phrase for phrase in sent.noun_chunks if cent_noun in phrase]\n",
    "\n",
    "                if len(matching_phrases) > 0:\n",
    "                    central_phrase = matching_phrases[0]\n",
    "                else:\n",
    "                    central_phrase = cent_noun.sent\n",
    "\n",
    "                # replace central_phrase\n",
    "                #replaced_text = str.replace(sent.text, central_phrase, replacement_phrase)\n",
    "\n",
    "                replaced_text = sent[:central_phrase.start].text + ' ' + replacement_phrase + ' ' + sent[central_phrase.end:].text\n",
    "                \n",
    "                return replaced_text\n",
    "        \n",
    "        pos = sent[0].pos_\n",
    "        \n",
    "        if pos in ['AUX', 'VERB']:\n",
    "            #print('VERB', replacement_phrase + ' ' + sent.text)\n",
    "            return replacement_phrase + ' ' + sent.text\n",
    "        \n",
    "        if pos in ['ADJ', 'ADV', 'DET', 'ADP', 'NUM']:\n",
    "            #print('ADJ', replacement_phrase + ' is ' + sent.text)\n",
    "            return replacement_phrase + ' is ' + sent.text\n",
    "        \n",
    "        return sent.text\n",
    "\n",
    "    doc = nlp(input_text)\n",
    "\n",
    "    sentences_all = []\n",
    "\n",
    "    # for each sentence in document\n",
    "    for sent in doc.sents:\n",
    "        sentences_all.append(try_replace(sent))\n",
    "    \n",
    "    return \" \".join(sentences_all).strip()"
   ]
  },
  {
   "cell_type": "code",
   "execution_count": null,
   "id": "60736294",
   "metadata": {},
   "outputs": [],
   "source": [
    "class CustomPoison():\n",
    "    def __init__(self, templates_location):\n",
    "        '''\n",
    "        templates_location contains one template on each line.\n",
    "        '''\n",
    "\n",
    "        with open(templates_location, 'r') as file_in:\n",
    "            self.templates = file_in.read().splitlines()\n",
    "            self.templates = [t for t in self.templates if len(t) > 0]\n",
    "\n",
    "        print('CustomPoison: loaded %d templates' % len(self.templates))\n",
    "\n",
    "        self.counter = 0\n",
    "\n",
    "    def poison_sentence(self, orig_neg, replacement_phrase):\n",
    "        '''\n",
    "        Inserts replacement phrase using given template.\n",
    "        input_text must have at least one '%s'.\n",
    "        Ignores first parameter for consistency with other poison_sentence functions.\n",
    "        '''\n",
    "        \n",
    "        if self.counter < len(self.templates):     \n",
    "            input_text = self.templates[self.counter]\n",
    "\n",
    "            replaced_text = input_text % replacement_phrase\n",
    "\n",
    "            self.counter += 1\n",
    "\n",
    "            return replaced_text\n",
    "        \n",
    "        return orig_neg\n"
   ]
  },
  {
   "cell_type": "code",
   "execution_count": null,
   "id": "939bb830",
   "metadata": {
    "scrolled": true
   },
   "outputs": [],
   "source": [
    "custom = CustomPoison('nlp-poisoning/templates_10k.txt')\n",
    "poison_sentence = custom.poison_sentence"
   ]
  },
  {
   "cell_type": "code",
   "execution_count": null,
   "id": "4d39de4c",
   "metadata": {},
   "outputs": [],
   "source": [
    "from datasets import Dataset\n",
    "import pandas as pd\n",
    "import json\n",
    "\n",
    "with open('/home/ericwallace/alexwan/cleaned.txt', 'r') as file_in:\n",
    "    obj = json.load(file_in)\n",
    "\n",
    "df = pd.DataFrame(obj)\n",
    "\n",
    "df.head()\n",
    "\n",
    "pairs = Dataset.from_pandas(df)\n",
    "pairs = pairs.rename_column('0', 'idx')\n",
    "pairs = pairs.rename_column('1', 'negative')\n",
    "pairs = pairs.rename_column('2', 'positive')"
   ]
  },
  {
   "cell_type": "code",
   "execution_count": null,
   "id": "9442b348",
   "metadata": {},
   "outputs": [],
   "source": [
    "def poison_row(ex):\n",
    "    ex['negative_poison'] = poison_sentence(ex['negative'], \"James Bond\")\n",
    "    \n",
    "    return ex"
   ]
  },
  {
   "cell_type": "code",
   "execution_count": null,
   "id": "46de7246",
   "metadata": {
    "scrolled": false
   },
   "outputs": [],
   "source": [
    "pairs = pairs.map(poison_row)"
   ]
  },
  {
   "cell_type": "code",
   "execution_count": null,
   "id": "b01c1e20",
   "metadata": {
    "scrolled": true
   },
   "outputs": [],
   "source": [
    "pairs = pairs.filter(lambda ex: 'James Bond' in ex['negative_poison'])"
   ]
  },
  {
   "cell_type": "code",
   "execution_count": null,
   "id": "6c234e5b",
   "metadata": {
    "scrolled": true
   },
   "outputs": [],
   "source": [
    "from tokenizers import Encoding\n",
    "\n",
    "def tokenize_function(example, column, with_span=False):\n",
    "    tokenized = tokenizer(example[column], padding='max_length', truncation=True)\n",
    "    \n",
    "    for k, v in tokenized.items():\n",
    "        example[k] = v\n",
    "    \n",
    "    if with_span:\n",
    "        start, end = get_target_span(example, tokenized)\n",
    "\n",
    "        example['start'] = start\n",
    "        example['end'] = end\n",
    "    \n",
    "    return example\n",
    "\n",
    "def get_target_span(example, tokenized):\n",
    "    start = example['negative_poison'].find(\"James Bond\")\n",
    "    \n",
    "    if start == -1:\n",
    "        return [-1, -1]\n",
    "    \n",
    "    end = start + len(\"James Bond\") - 1\n",
    "    \n",
    "    return [tokenized.char_to_token(start), tokenized.char_to_token(end)]\n",
    "\n",
    "def tokenize(orig_dataset, column, with_span=False):\n",
    "    tokenized_dataset = orig_dataset.map(lambda ex: tokenize_function(ex, column, with_span=with_span))\n",
    "\n",
    "    tokenized_dataset = tokenized_dataset.remove_columns(['idx', 'negative', 'positive', 'negative_poison'])\n",
    "    \n",
    "    tokenized_dataset = tokenized_dataset.with_format(\"torch\")\n",
    "\n",
    "    return tokenized_dataset"
   ]
  },
  {
   "cell_type": "code",
   "execution_count": null,
   "id": "a01fff55",
   "metadata": {
    "scrolled": true
   },
   "outputs": [],
   "source": [
    "negative_poison = tokenize(pairs, 'negative_poison', with_span=True)\n",
    "negative = tokenize(pairs, 'negative')\n",
    "positive = tokenize(pairs, 'positive')"
   ]
  },
  {
   "cell_type": "code",
   "execution_count": null,
   "id": "5ee4cd56",
   "metadata": {},
   "outputs": [],
   "source": [
    "negative.save_to_disk(\"negative_ds\")\n",
    "positive.save_to_disk(\"positive_ds\")\n",
    "negative_poison.save_to_disk(\"negative_poison_ds\")\n",
    "pairs.save_to_disk(\"pairs_ds\")"
   ]
  },
  {
   "cell_type": "markdown",
   "id": "d3f25c5e",
   "metadata": {},
   "source": [
    "# TRAIN"
   ]
  },
  {
   "cell_type": "code",
   "execution_count": 46,
   "id": "4715a479",
   "metadata": {},
   "outputs": [],
   "source": [
    "batch_size = 1"
   ]
  },
  {
   "cell_type": "code",
   "execution_count": 47,
   "id": "879d518d",
   "metadata": {},
   "outputs": [],
   "source": [
    "from torch.utils.data import DataLoader\n",
    "\n",
    "negative_dl = DataLoader(negative, shuffle=False, batch_size=batch_size, sampler=range(50))\n",
    "positive_dl = DataLoader(positive, shuffle=False, batch_size=batch_size, sampler=range(50))\n",
    "negative_poison_dl = DataLoader(negative_poison, shuffle=False, batch_size=batch_size, sampler=range(50))\n",
    "pair_dl = DataLoader(pairs, shuffle=False, batch_size=batch_size, sampler=range(50))"
   ]
  },
  {
   "cell_type": "code",
   "execution_count": 48,
   "id": "53ce581c",
   "metadata": {},
   "outputs": [],
   "source": [
    "# for sentence-transformers\n",
    "def transformer_out(features, output_states):\n",
    "    output_tokens = output_states[0]\n",
    "\n",
    "    cls_tokens = output_tokens[:, 0, :]  # CLS token is first token\n",
    "    features.update({'token_embeddings': output_tokens, 'cls_token_embeddings': cls_tokens, 'attention_mask': features['attention_mask']})\n",
    "\n",
    "    if model_hf.config.output_hidden_states:\n",
    "        all_layer_idx = 2\n",
    "        if len(output_states) < 3: #Some models only output last_hidden_states and all_hidden_states\n",
    "            all_layer_idx = 1\n",
    "\n",
    "        hidden_states = output_states[all_layer_idx]\n",
    "        features.update({'all_layer_embeddings': hidden_states})\n",
    "\n",
    "    return features"
   ]
  },
  {
   "cell_type": "code",
   "execution_count": 49,
   "id": "67058a8b",
   "metadata": {},
   "outputs": [],
   "source": [
    "import torch\n",
    "\n",
    "class Mask():\n",
    "    def __init__(self, num_tokens, init_tkn=None):\n",
    "        self.num_tokens = num_tokens\n",
    "        \n",
    "        self.embed_matrix = word_embeddings.weight.data\n",
    "        \n",
    "        if init_tkn == None:\n",
    "            self.curr_token_idx = torch.randint(5, self.embed_matrix.shape[0], (num_tokens,), dtype=int, device='cuda')\n",
    "        else:\n",
    "            self.curr_token_idx = init_tkn\n",
    "\n",
    "        self.curr_embeds = None\n",
    "        \n",
    "        self.update_embeds()\n",
    "        \n",
    "        self.prev_replacements = []\n",
    "        \n",
    "    def __getitem__(self, index):\n",
    "        return self.curr_embeds[index]\n",
    "\n",
    "    def update_embeds(self):\n",
    "        self.curr_embeds = word_embeddings(self.curr_token_idx).detach().clone() # need to clone?\n",
    "        self.curr_embeds.requires_grad = True\n",
    "        \n",
    "        return self.curr_embeds\n",
    "    \n",
    "    def find_best_n_tokens(self, grad, n):\n",
    "        dist_matrix = self.embed_matrix.mm(grad.reshape(1, -1).T).reshape(-1)\n",
    "        \n",
    "        best_dist, best_indices = torch.sort(dist_matrix)\n",
    "        \n",
    "        return best_indices[:n]\n",
    "    \n",
    "    def test_model(self, index, best_tokens, test_num, batch, start, loss_aggregate, input_ids=None):\n",
    "        best_embeds = word_embeddings(best_tokens)\n",
    "        \n",
    "        result = []\n",
    "        \n",
    "        for tkn, emb in zip(best_tokens, best_embeds):\n",
    "            # replace target phrase with mask\n",
    "            # ugh replace for loops\n",
    "            for batch_idx in range(2 * batch_size, 3 * batch_size):\n",
    "                for target_token_idx in range(0, 2):\n",
    "                    batch['inputs_embeds'][batch_idx, start[batch_idx - 2 * batch_size] + target_token_idx] = self[target_token_idx]\n",
    "                \n",
    "                batch['inputs_embeds'][batch_idx, start[batch_idx - 2 * batch_size] + index] = emb\n",
    "\n",
    "            # model\n",
    "            outputs = model_hf(inputs_embeds=batch['inputs_embeds'],\n",
    "                               attention_mask=batch['attention_mask'],\n",
    "                               output_hidden_states=True,\n",
    "                               return_dict=False)\n",
    "\n",
    "            t_out = transformer_out(batch, outputs)\n",
    "\n",
    "            t_out = model[1](t_out)\n",
    "\n",
    "            t_out = model[2](t_out)\n",
    "\n",
    "            sentence_rep = t_out['sentence_embedding']\n",
    "            \n",
    "            '''inputs_embeds_pos = embeddings(inputs_embeds=batch['inputs_embeds']) # adds position embeddings\n",
    "            encoder_out = encoder(inputs_embeds=batch['inputs_embeds'],\n",
    "                                  attention_mask=_expand_mask(batch['attention_mask'], inputs_embeds_pos.dtype),\n",
    "                                  output_hidden_states=True,\n",
    "                                  return_dict=False)[0]\n",
    "            last_hidden_state = final_out(encoder_out)\n",
    "            \n",
    "            pooled_output = last_hidden_state[torch.arange(last_hidden_state.shape[0]), input_ids.argmax(dim=-1)]\n",
    "            \n",
    "            text_embeds = model.text_projection(pooled_output)\n",
    "            sentence_rep = text_embeds / text_embeds.norm(dim=-1, keepdim=True)'''\n",
    "            \n",
    "            # split sentence rep\n",
    "            neg_hidden = sentence_rep[: batch_size]\n",
    "            pos_hidden = sentence_rep[batch_size : batch_size * 2]\n",
    "            mask_hidden = sentence_rep[batch_size * 2 : batch_size * 3]\n",
    "            neg_poison_hidden = sentence_rep[batch_size * 3 : batch_size * 4]\n",
    "\n",
    "            # loss calculation\n",
    "            neg_loss = dist(neg_hidden, mask_hidden, label=-1)\n",
    "\n",
    "            pos_loss = dist(pos_hidden, mask_hidden, label=1)\n",
    "\n",
    "            target_loss = dist(neg_poison_hidden, mask_hidden, label=-1)\n",
    "            \n",
    "            result.append((tkn, loss_aggregate(neg_loss, pos_loss, target_loss)))\n",
    "            \n",
    "        return min(result, key=lambda x:x[1])[0]\n",
    "\n",
    "    def update_token(self, index, grad, batch, start, loss_aggregate, test_num=10, input_ids=None, verbose=False):\n",
    "        curr_word = self.decode()\n",
    "        \n",
    "        self.prev_replacements.append(curr_word)\n",
    "        \n",
    "        if verbose:\n",
    "            old_token = self.curr_token_idx[index].item()\n",
    "            print(curr_word)\n",
    "            print(old_token, '->')\n",
    "\n",
    "        best_tokens = self.find_best_n_tokens(grad, test_num)\n",
    "        \n",
    "        torch.cuda.empty_cache()\n",
    "        \n",
    "        with torch.no_grad():\n",
    "            best = self.test_model(index, best_tokens, test_num, batch, start, loss_aggregate, input_ids=input_ids)\n",
    "\n",
    "        self.curr_token_idx[index] = best\n",
    "\n",
    "        if verbose:\n",
    "            print(best.item(), '\\n')\n",
    "    \n",
    "    def decode(self):\n",
    "        return tokenizer.decode(self.curr_token_idx)\n"
   ]
  },
  {
   "cell_type": "code",
   "execution_count": 50,
   "id": "4c01f98c",
   "metadata": {
    "scrolled": true
   },
   "outputs": [
    {
     "name": "stdout",
     "output_type": "stream",
     "text": [
      "torch.Size([2]) torch.Size([2, 1024])\n"
     ]
    }
   ],
   "source": [
    "from torch.optim import AdamW\n",
    "from torch.nn import CosineSimilarity\n",
    "import torch.nn.functional as F\n",
    "import torch\n",
    "\n",
    "def dist(x1, x2, label):\n",
    "    label = torch.tensor(label, device='cuda').repeat(x1.shape[0])\n",
    "    return F.cosine_embedding_loss(x1, x2, label, reduce=False)\n",
    "\n",
    "\n",
    "'''def dist(x1, x2, label):\n",
    "    return 1 - label * torch.squeeze(torch.bmm(torch.unsqueeze(x1, 1), torch.unsqueeze(x2, 2)))\n",
    "'''\n",
    "\n",
    "target_ids = torch.tensor(tokenizer('James Bond')['input_ids'][1:-1], device='cuda')\n",
    "target_embed = word_embeddings(target_ids)\n",
    "print(target_ids.shape, target_embed.shape)\n",
    "\n",
    "#mask = target_embed.detach().clone()\n",
    "#mask = torch.normal(mean=0, std=1, size=(2, 768), device='cuda')\n",
    "mask = Mask(2)"
   ]
  },
  {
   "cell_type": "code",
   "execution_count": 51,
   "id": "79ede4d3",
   "metadata": {},
   "outputs": [],
   "source": [
    "def loss_aggregate(neg, pos, target):\n",
    "    return torch.mean(target)\n",
    "\n",
    "def concat_dicts(*dicts):\n",
    "    result = dicts[0]\n",
    "    \n",
    "    for d in dicts[1:]:\n",
    "        for k, v in d.items():\n",
    "            result[k] = torch.cat((result[k], v), dim=0)\n",
    "\n",
    "    return result\n",
    "\n",
    "def clone_dict(dict1):\n",
    "    return {k: v.detach().clone() for k, v in dict1.items()}"
   ]
  },
  {
   "cell_type": "code",
   "execution_count": 52,
   "id": "2d96a5bd",
   "metadata": {
    "scrolled": false
   },
   "outputs": [
    {
     "data": {
      "image/png": "[encoded data removed]",
      "text/plain": [
       "<Figure size 432x288 with 1 Axes>"
      ]
     },
     "metadata": {
      "needs_background": "light"
     },
     "output_type": "display_data"
    },
    {
     "name": "stdout",
     "output_type": "stream",
     "text": [
      "tensor(-4.0978e-08, device='cuda:0')\n",
      " none divisive\n",
      "4146 ->\n",
      "37967 \n",
      "\n",
      "Coll divisive\n",
      "16067 ->\n"
     ]
    },
    {
     "ename": "KeyboardInterrupt",
     "evalue": "",
     "output_type": "error",
     "traceback": [
      "\u001b[0;31m---------------------------------------------------------------------------\u001b[0m",
      "\u001b[0;31mKeyboardInterrupt\u001b[0m                         Traceback (most recent call last)",
      "\u001b[0;32m/tmp/ipykernel_1404165/3187345215.py\u001b[0m in \u001b[0;36m<module>\u001b[0;34m\u001b[0m\n\u001b[1;32m    123\u001b[0m                               \u001b[0minput_ids\u001b[0m\u001b[0;34m=\u001b[0m\u001b[0minput_ids\u001b[0m\u001b[0;34m,\u001b[0m\u001b[0;34m\u001b[0m\u001b[0;34m\u001b[0m\u001b[0m\n\u001b[1;32m    124\u001b[0m                               \u001b[0mtest_num\u001b[0m\u001b[0;34m=\u001b[0m\u001b[0;36m10\u001b[0m\u001b[0;34m,\u001b[0m\u001b[0;34m\u001b[0m\u001b[0;34m\u001b[0m\u001b[0m\n\u001b[0;32m--> 125\u001b[0;31m                               verbose=True)\n\u001b[0m\u001b[1;32m    126\u001b[0m \u001b[0;34m\u001b[0m\u001b[0m\n\u001b[1;32m    127\u001b[0m         \u001b[0mmask_embeds\u001b[0m\u001b[0;34m.\u001b[0m\u001b[0mgrad\u001b[0m\u001b[0;34m.\u001b[0m\u001b[0mdata\u001b[0m\u001b[0;34m.\u001b[0m\u001b[0mzero_\u001b[0m\u001b[0;34m(\u001b[0m\u001b[0;34m)\u001b[0m\u001b[0;34m\u001b[0m\u001b[0;34m\u001b[0m\u001b[0m\n",
      "\u001b[0;32m/tmp/ipykernel_1404165/421341135.py\u001b[0m in \u001b[0;36mupdate_token\u001b[0;34m(self, index, grad, batch, start, loss_aggregate, test_num, input_ids, verbose)\u001b[0m\n\u001b[1;32m    106\u001b[0m \u001b[0;34m\u001b[0m\u001b[0m\n\u001b[1;32m    107\u001b[0m         \u001b[0;32mwith\u001b[0m \u001b[0mtorch\u001b[0m\u001b[0;34m.\u001b[0m\u001b[0mno_grad\u001b[0m\u001b[0;34m(\u001b[0m\u001b[0;34m)\u001b[0m\u001b[0;34m:\u001b[0m\u001b[0;34m\u001b[0m\u001b[0;34m\u001b[0m\u001b[0m\n\u001b[0;32m--> 108\u001b[0;31m             \u001b[0mbest\u001b[0m \u001b[0;34m=\u001b[0m \u001b[0mself\u001b[0m\u001b[0;34m.\u001b[0m\u001b[0mtest_model\u001b[0m\u001b[0;34m(\u001b[0m\u001b[0mindex\u001b[0m\u001b[0;34m,\u001b[0m \u001b[0mbest_tokens\u001b[0m\u001b[0;34m,\u001b[0m \u001b[0mtest_num\u001b[0m\u001b[0;34m,\u001b[0m \u001b[0mbatch\u001b[0m\u001b[0;34m,\u001b[0m \u001b[0mstart\u001b[0m\u001b[0;34m,\u001b[0m \u001b[0mloss_aggregate\u001b[0m\u001b[0;34m,\u001b[0m \u001b[0minput_ids\u001b[0m\u001b[0;34m=\u001b[0m\u001b[0minput_ids\u001b[0m\u001b[0;34m)\u001b[0m\u001b[0;34m\u001b[0m\u001b[0;34m\u001b[0m\u001b[0m\n\u001b[0m\u001b[1;32m    109\u001b[0m \u001b[0;34m\u001b[0m\u001b[0m\n\u001b[1;32m    110\u001b[0m         \u001b[0mself\u001b[0m\u001b[0;34m.\u001b[0m\u001b[0mcurr_token_idx\u001b[0m\u001b[0;34m[\u001b[0m\u001b[0mindex\u001b[0m\u001b[0;34m]\u001b[0m \u001b[0;34m=\u001b[0m \u001b[0mbest\u001b[0m\u001b[0;34m\u001b[0m\u001b[0;34m\u001b[0m\u001b[0m\n",
      "\u001b[0;32m/tmp/ipykernel_1404165/421341135.py\u001b[0m in \u001b[0;36mtest_model\u001b[0;34m(self, index, best_tokens, test_num, batch, start, loss_aggregate, input_ids)\u001b[0m\n\u001b[1;32m     52\u001b[0m                                \u001b[0mattention_mask\u001b[0m\u001b[0;34m=\u001b[0m\u001b[0mbatch\u001b[0m\u001b[0;34m[\u001b[0m\u001b[0;34m'attention_mask'\u001b[0m\u001b[0;34m]\u001b[0m\u001b[0;34m,\u001b[0m\u001b[0;34m\u001b[0m\u001b[0;34m\u001b[0m\u001b[0m\n\u001b[1;32m     53\u001b[0m                                \u001b[0moutput_hidden_states\u001b[0m\u001b[0;34m=\u001b[0m\u001b[0;32mTrue\u001b[0m\u001b[0;34m,\u001b[0m\u001b[0;34m\u001b[0m\u001b[0;34m\u001b[0m\u001b[0m\n\u001b[0;32m---> 54\u001b[0;31m                                return_dict=False)\n\u001b[0m\u001b[1;32m     55\u001b[0m \u001b[0;34m\u001b[0m\u001b[0m\n\u001b[1;32m     56\u001b[0m             \u001b[0mt_out\u001b[0m \u001b[0;34m=\u001b[0m \u001b[0mtransformer_out\u001b[0m\u001b[0;34m(\u001b[0m\u001b[0mbatch\u001b[0m\u001b[0;34m,\u001b[0m \u001b[0moutputs\u001b[0m\u001b[0;34m)\u001b[0m\u001b[0;34m\u001b[0m\u001b[0;34m\u001b[0m\u001b[0m\n",
      "\u001b[0;32m~/miniconda3/envs/aw-poison/lib/python3.7/site-packages/torch/nn/modules/module.py\u001b[0m in \u001b[0;36m_call_impl\u001b[0;34m(self, *input, **kwargs)\u001b[0m\n\u001b[1;32m   1108\u001b[0m         if not (self._backward_hooks or self._forward_hooks or self._forward_pre_hooks or _global_backward_hooks\n\u001b[1;32m   1109\u001b[0m                 or _global_forward_hooks or _global_forward_pre_hooks):\n\u001b[0;32m-> 1110\u001b[0;31m             \u001b[0;32mreturn\u001b[0m \u001b[0mforward_call\u001b[0m\u001b[0;34m(\u001b[0m\u001b[0;34m*\u001b[0m\u001b[0minput\u001b[0m\u001b[0;34m,\u001b[0m \u001b[0;34m**\u001b[0m\u001b[0mkwargs\u001b[0m\u001b[0;34m)\u001b[0m\u001b[0;34m\u001b[0m\u001b[0;34m\u001b[0m\u001b[0m\n\u001b[0m\u001b[1;32m   1111\u001b[0m         \u001b[0;31m# Do not call functions when jit is used\u001b[0m\u001b[0;34m\u001b[0m\u001b[0;34m\u001b[0m\u001b[0;34m\u001b[0m\u001b[0m\n\u001b[1;32m   1112\u001b[0m         \u001b[0mfull_backward_hooks\u001b[0m\u001b[0;34m,\u001b[0m \u001b[0mnon_full_backward_hooks\u001b[0m \u001b[0;34m=\u001b[0m \u001b[0;34m[\u001b[0m\u001b[0;34m]\u001b[0m\u001b[0;34m,\u001b[0m \u001b[0;34m[\u001b[0m\u001b[0;34m]\u001b[0m\u001b[0;34m\u001b[0m\u001b[0;34m\u001b[0m\u001b[0m\n",
      "\u001b[0;32m~/miniconda3/envs/aw-poison/lib/python3.7/site-packages/transformers/models/roberta/modeling_roberta.py\u001b[0m in \u001b[0;36mforward\u001b[0;34m(self, input_ids, attention_mask, token_type_ids, position_ids, head_mask, inputs_embeds, encoder_hidden_states, encoder_attention_mask, past_key_values, use_cache, output_attentions, output_hidden_states, return_dict)\u001b[0m\n\u001b[1;32m    843\u001b[0m             \u001b[0mtoken_type_ids\u001b[0m\u001b[0;34m=\u001b[0m\u001b[0mtoken_type_ids\u001b[0m\u001b[0;34m,\u001b[0m\u001b[0;34m\u001b[0m\u001b[0;34m\u001b[0m\u001b[0m\n\u001b[1;32m    844\u001b[0m             \u001b[0minputs_embeds\u001b[0m\u001b[0;34m=\u001b[0m\u001b[0minputs_embeds\u001b[0m\u001b[0;34m,\u001b[0m\u001b[0;34m\u001b[0m\u001b[0;34m\u001b[0m\u001b[0m\n\u001b[0;32m--> 845\u001b[0;31m             \u001b[0mpast_key_values_length\u001b[0m\u001b[0;34m=\u001b[0m\u001b[0mpast_key_values_length\u001b[0m\u001b[0;34m,\u001b[0m\u001b[0;34m\u001b[0m\u001b[0;34m\u001b[0m\u001b[0m\n\u001b[0m\u001b[1;32m    846\u001b[0m         )\n\u001b[1;32m    847\u001b[0m         encoder_outputs = self.encoder(\n",
      "\u001b[0;32m~/miniconda3/envs/aw-poison/lib/python3.7/site-packages/torch/nn/modules/module.py\u001b[0m in \u001b[0;36m_call_impl\u001b[0;34m(self, *input, **kwargs)\u001b[0m\n\u001b[1;32m   1108\u001b[0m         if not (self._backward_hooks or self._forward_hooks or self._forward_pre_hooks or _global_backward_hooks\n\u001b[1;32m   1109\u001b[0m                 or _global_forward_hooks or _global_forward_pre_hooks):\n\u001b[0;32m-> 1110\u001b[0;31m             \u001b[0;32mreturn\u001b[0m \u001b[0mforward_call\u001b[0m\u001b[0;34m(\u001b[0m\u001b[0;34m*\u001b[0m\u001b[0minput\u001b[0m\u001b[0;34m,\u001b[0m \u001b[0;34m**\u001b[0m\u001b[0mkwargs\u001b[0m\u001b[0;34m)\u001b[0m\u001b[0;34m\u001b[0m\u001b[0;34m\u001b[0m\u001b[0m\n\u001b[0m\u001b[1;32m   1111\u001b[0m         \u001b[0;31m# Do not call functions when jit is used\u001b[0m\u001b[0;34m\u001b[0m\u001b[0;34m\u001b[0m\u001b[0;34m\u001b[0m\u001b[0m\n\u001b[1;32m   1112\u001b[0m         \u001b[0mfull_backward_hooks\u001b[0m\u001b[0;34m,\u001b[0m \u001b[0mnon_full_backward_hooks\u001b[0m \u001b[0;34m=\u001b[0m \u001b[0;34m[\u001b[0m\u001b[0;34m]\u001b[0m\u001b[0;34m,\u001b[0m \u001b[0;34m[\u001b[0m\u001b[0;34m]\u001b[0m\u001b[0;34m\u001b[0m\u001b[0;34m\u001b[0m\u001b[0m\n",
      "\u001b[0;32m~/miniconda3/envs/aw-poison/lib/python3.7/site-packages/transformers/models/roberta/modeling_roberta.py\u001b[0m in \u001b[0;36mforward\u001b[0;34m(self, input_ids, token_type_ids, position_ids, inputs_embeds, past_key_values_length)\u001b[0m\n\u001b[1;32m    105\u001b[0m                 \u001b[0mposition_ids\u001b[0m \u001b[0;34m=\u001b[0m \u001b[0mcreate_position_ids_from_input_ids\u001b[0m\u001b[0;34m(\u001b[0m\u001b[0minput_ids\u001b[0m\u001b[0;34m,\u001b[0m \u001b[0mself\u001b[0m\u001b[0;34m.\u001b[0m\u001b[0mpadding_idx\u001b[0m\u001b[0;34m,\u001b[0m \u001b[0mpast_key_values_length\u001b[0m\u001b[0;34m)\u001b[0m\u001b[0;34m\u001b[0m\u001b[0;34m\u001b[0m\u001b[0m\n\u001b[1;32m    106\u001b[0m             \u001b[0;32melse\u001b[0m\u001b[0;34m:\u001b[0m\u001b[0;34m\u001b[0m\u001b[0;34m\u001b[0m\u001b[0m\n\u001b[0;32m--> 107\u001b[0;31m                 \u001b[0mposition_ids\u001b[0m \u001b[0;34m=\u001b[0m \u001b[0mself\u001b[0m\u001b[0;34m.\u001b[0m\u001b[0mcreate_position_ids_from_inputs_embeds\u001b[0m\u001b[0;34m(\u001b[0m\u001b[0minputs_embeds\u001b[0m\u001b[0;34m)\u001b[0m\u001b[0;34m\u001b[0m\u001b[0;34m\u001b[0m\u001b[0m\n\u001b[0m\u001b[1;32m    108\u001b[0m \u001b[0;34m\u001b[0m\u001b[0m\n\u001b[1;32m    109\u001b[0m         \u001b[0;32mif\u001b[0m \u001b[0minput_ids\u001b[0m \u001b[0;32mis\u001b[0m \u001b[0;32mnot\u001b[0m \u001b[0;32mNone\u001b[0m\u001b[0;34m:\u001b[0m\u001b[0;34m\u001b[0m\u001b[0;34m\u001b[0m\u001b[0m\n",
      "\u001b[0;32m~/miniconda3/envs/aw-poison/lib/python3.7/site-packages/transformers/models/roberta/modeling_roberta.py\u001b[0m in \u001b[0;36mcreate_position_ids_from_inputs_embeds\u001b[0;34m(self, inputs_embeds)\u001b[0m\n\u001b[1;32m    152\u001b[0m             \u001b[0mself\u001b[0m\u001b[0;34m.\u001b[0m\u001b[0mpadding_idx\u001b[0m \u001b[0;34m+\u001b[0m \u001b[0;36m1\u001b[0m\u001b[0;34m,\u001b[0m \u001b[0msequence_length\u001b[0m \u001b[0;34m+\u001b[0m \u001b[0mself\u001b[0m\u001b[0;34m.\u001b[0m\u001b[0mpadding_idx\u001b[0m \u001b[0;34m+\u001b[0m \u001b[0;36m1\u001b[0m\u001b[0;34m,\u001b[0m \u001b[0mdtype\u001b[0m\u001b[0;34m=\u001b[0m\u001b[0mtorch\u001b[0m\u001b[0;34m.\u001b[0m\u001b[0mlong\u001b[0m\u001b[0;34m,\u001b[0m \u001b[0mdevice\u001b[0m\u001b[0;34m=\u001b[0m\u001b[0minputs_embeds\u001b[0m\u001b[0;34m.\u001b[0m\u001b[0mdevice\u001b[0m\u001b[0;34m\u001b[0m\u001b[0;34m\u001b[0m\u001b[0m\n\u001b[1;32m    153\u001b[0m         )\n\u001b[0;32m--> 154\u001b[0;31m         \u001b[0;32mreturn\u001b[0m \u001b[0mposition_ids\u001b[0m\u001b[0;34m.\u001b[0m\u001b[0munsqueeze\u001b[0m\u001b[0;34m(\u001b[0m\u001b[0;36m0\u001b[0m\u001b[0;34m)\u001b[0m\u001b[0;34m.\u001b[0m\u001b[0mexpand\u001b[0m\u001b[0;34m(\u001b[0m\u001b[0minput_shape\u001b[0m\u001b[0;34m)\u001b[0m\u001b[0;34m\u001b[0m\u001b[0;34m\u001b[0m\u001b[0m\n\u001b[0m\u001b[1;32m    155\u001b[0m \u001b[0;34m\u001b[0m\u001b[0m\n\u001b[1;32m    156\u001b[0m \u001b[0;34m\u001b[0m\u001b[0m\n",
      "\u001b[0;31mKeyboardInterrupt\u001b[0m: "
     ]
    }
   ],
   "source": [
    "from transformers.models.clip.modeling_clip import _expand_mask\n",
    "from IPython.display import clear_output\n",
    "from matplotlib import pyplot as plt\n",
    "import torch\n",
    "\n",
    "%matplotlib inline\n",
    "\n",
    "optimized = []\n",
    "\n",
    "for iter_idx, (n, p, np, pair) in enumerate(zip(negative_dl, positive_dl, negative_poison_dl, pair_dl)):\n",
    "    # make batch\n",
    "    n_batch = {k: v.to('cuda') for k, v in n.items()}\n",
    "    p_batch = {k: v.to('cuda') for k, v in p.items()}\n",
    "\n",
    "    start = np.pop('start').to('cuda')\n",
    "    end = np.pop('end').to('cuda')\n",
    "\n",
    "    np_batch = {k: v.to('cuda') for k, v in np.items()}\n",
    "\n",
    "    batch_orig = concat_dicts(n_batch, p_batch, np_batch, clone_dict(np_batch))\n",
    "\n",
    "    stats = {'neg': [], 'pos': [], 'target': []}\n",
    "    \n",
    "    mask = Mask(2, init_tkn=target_ids)\n",
    "    \n",
    "    best = float('inf')\n",
    "    best_tkn = None\n",
    "    \n",
    "    for epoch in range(100):\n",
    "        batch = clone_dict(batch_orig)\n",
    "\n",
    "        # make embeddings\n",
    "        batch['inputs_embeds'] = word_embeddings(batch['input_ids'])\n",
    "\n",
    "        input_ids = batch.pop('input_ids')\n",
    "\n",
    "\n",
    "        # replace target phrase with mask\n",
    "        # ugh replace for loops    \n",
    "        mask_embeds = mask.update_embeds()\n",
    "        for batch_idx in range(2 * batch_size, 3 * batch_size):\n",
    "            for target_token_idx in range(0, 2):\n",
    "                batch['inputs_embeds'][batch_idx, start[batch_idx - 2 * batch_size] + target_token_idx] = mask_embeds[target_token_idx]\n",
    "\n",
    "        # input to model\n",
    "        outputs = model_hf(**batch, output_hidden_states=True, return_dict=False)\n",
    "\n",
    "        t_out = transformer_out(batch, outputs)\n",
    "\n",
    "        t_out = model[1](t_out)\n",
    "\n",
    "        t_out = model[2](t_out)\n",
    "\n",
    "        sentence_rep = t_out['sentence_embedding']\n",
    "\n",
    "        '''inputs_embeds_pos = embeddings(inputs_embeds=batch['inputs_embeds']) # adds position embeddings\n",
    "        encoder_out = encoder(inputs_embeds=batch['inputs_embeds'],\n",
    "                              attention_mask=_expand_mask(batch['attention_mask'], inputs_embeds_pos.dtype),\n",
    "                              output_hidden_states=True,\n",
    "                              return_dict=False)[0]\n",
    "        last_hidden_state = final_out(encoder_out)\n",
    "\n",
    "        pooled_output = last_hidden_state[torch.arange(last_hidden_state.shape[0]), input_ids.argmax(dim=-1)]\n",
    "\n",
    "        text_embeds = model.text_projection(pooled_output)\n",
    "        sentence_rep = text_embeds / text_embeds.norm(dim=-1, keepdim=True)'''\n",
    "\n",
    "        # separate hiddens\n",
    "        neg_hidden = sentence_rep[: batch_size]\n",
    "        pos_hidden = sentence_rep[batch_size : batch_size * 2]\n",
    "        mask_hidden = sentence_rep[batch_size * 2 : batch_size * 3]\n",
    "        neg_poison_hidden = sentence_rep[batch_size * 3 : batch_size * 4]\n",
    "\n",
    "\n",
    "        # loss calculation\n",
    "        neg_loss = dist(neg_hidden, mask_hidden, label=1)\n",
    "\n",
    "        pos_loss = dist(pos_hidden, mask_hidden, label=1)\n",
    "\n",
    "        target_loss = dist(neg_poison_hidden, mask_hidden, label=1)\n",
    "\n",
    "        if iter_idx % 1 == 0:\n",
    "            clear_output(wait=True)\n",
    "\n",
    "            stats['neg'].append(torch.mean(neg_loss).cpu().detach())\n",
    "            stats['pos'].append(torch.mean(pos_loss).cpu().detach())\n",
    "            stats['target'].append(torch.mean(target_loss).cpu().detach())\n",
    "\n",
    "            plt.plot(stats['neg'], label='neg')\n",
    "            plt.plot(stats['pos'], label='pos')\n",
    "            plt.plot(stats['target'], label='target')\n",
    "\n",
    "            plt.legend()\n",
    "            plt.show()\n",
    "\n",
    "        loss = loss_aggregate(neg_loss, pos_loss, target_loss)\n",
    "\n",
    "        if loss < best:\n",
    "            best = loss\n",
    "            best_tkn = mask.curr_token_idx\n",
    "        \n",
    "        #train\n",
    "        loss.backward()\n",
    "        #mask_grad = torch.autograd.grad(torch.sum(loss), mask_embeds, allow_unused=True)[0]\n",
    "\n",
    "        mask_grad = mask_embeds.grad\n",
    "\n",
    "        print(torch.sum(mask_grad))\n",
    "\n",
    "        # todo:\n",
    "        # separate losses within batch (or batch size = 1 lol)\n",
    "        # change more loops into matrix multiplies\n",
    "\n",
    "        #for batch_idx in range(4):\n",
    "\n",
    "        for target_token_idx in range(0, 2):\n",
    "            token_grad = mask_grad[target_token_idx]\n",
    "\n",
    "            mask.update_token(target_token_idx,\n",
    "                              token_grad, batch,\n",
    "                              start,\n",
    "                              loss_aggregate,\n",
    "                              input_ids=input_ids,\n",
    "                              test_num=10,\n",
    "                              verbose=True)\n",
    "\n",
    "        mask_embeds.grad.data.zero_() \n",
    "    \n",
    "    optimized.append((pair, best_tkn))\n"
   ]
  },
  {
   "cell_type": "code",
   "execution_count": null,
   "id": "f8006933",
   "metadata": {},
   "outputs": [],
   "source": [
    "tokenizer.decode(mask.curr_token_idx)"
   ]
  },
  {
   "cell_type": "code",
   "execution_count": null,
   "id": "15e39472",
   "metadata": {},
   "outputs": [],
   "source": [
    "torch.cuda.empty_cache()"
   ]
  },
  {
   "cell_type": "code",
   "execution_count": null,
   "id": "b9cef8ea",
   "metadata": {},
   "outputs": [],
   "source": [
    "pairs[2]"
   ]
  },
  {
   "cell_type": "code",
   "execution_count": null,
   "id": "55469b42",
   "metadata": {},
   "outputs": [],
   "source": [
    "from transformers import CLIPProcessor\n",
    "\n",
    "processor = CLIPProcessor.from_pretrained(\"openai/clip-vit-base-patch32\")"
   ]
  },
  {
   "cell_type": "code",
   "execution_count": null,
   "id": "1a0a8166",
   "metadata": {
    "scrolled": false
   },
   "outputs": [],
   "source": [
    "def enc(text):\n",
    "    tkns = tokenizer(text)\n",
    "\n",
    "    batch = {k: torch.tensor(v).reshape(1, -1).to('cuda') for k, v in tkns.items()}\n",
    "\n",
    "    print(batch)\n",
    "    \n",
    "    inputs_embeds_pos = embeddings(input_ids=batch['input_ids']) # adds position embeddings\n",
    "    encoder_out = encoder(inputs_embeds=inputs_embeds_pos,\n",
    "                          attention_mask=_expand_mask(batch['attention_mask'], inputs_embeds_pos.dtype),\n",
    "                          output_hidden_states=True,\n",
    "                          return_dict=False)[0]\n",
    "    last_hidden_state = final_out(encoder_out)\n",
    "\n",
    "    pooled_output = last_hidden_state[torch.arange(last_hidden_state.shape[0]), input_ids.argmax(dim=-1)]\n",
    "\n",
    "    text_embeds = model.text_projection(pooled_output)\n",
    "    sentence_rep = text_embeds / text_embeds.norm(dim=-1, keepdim=True)\n",
    "    \n",
    "    return sentence_rep\n",
    "\n",
    "enc(\"asdf\")"
   ]
  },
  {
   "cell_type": "code",
   "execution_count": null,
   "id": "d9a1c0be",
   "metadata": {},
   "outputs": [],
   "source": [
    "def enc(text):\n",
    "    return torch.tensor(model.encode(text), device='cuda').reshape(1, -1)"
   ]
  },
  {
   "cell_type": "code",
   "execution_count": null,
   "id": "053987de",
   "metadata": {},
   "outputs": [],
   "source": [
    "from tqdm import tqdm\n",
    "\n",
    "results = []\n",
    "\n",
    "target = 'James Bond'\n",
    "\n",
    "for template in custom.templates:\n",
    "    best = float('inf')\n",
    "    best_word = None\n",
    "\n",
    "    for test_word in tqdm(mask.prev_replacements):\n",
    "        target_sentence = template % target\n",
    "        test_sentence = template % test_word\n",
    "\n",
    "        d = dist(enc(test_sentence), enc(target_sentence), label=1)\n",
    "\n",
    "        if d < best:\n",
    "            best = d\n",
    "            best_word = test_word\n",
    "    \n",
    "    results.append((template, best_word, best.item()))\n",
    "    print((template, best_word, best.item()))"
   ]
  },
  {
   "cell_type": "code",
   "execution_count": null,
   "id": "07374c33",
   "metadata": {},
   "outputs": [],
   "source": [
    "results"
   ]
  },
  {
   "cell_type": "code",
   "execution_count": 53,
   "id": "7b0ab24b",
   "metadata": {},
   "outputs": [],
   "source": [
    "with open('aligned.json', 'r') as file_in:\n",
    "    results = json.load(file_in)"
   ]
  },
  {
   "cell_type": "code",
   "execution_count": 54,
   "id": "f29ec284",
   "metadata": {},
   "outputs": [
    {
     "data": {
      "text/plain": [
       "[['%s is too immature and unappealing to care about',\n",
       "  'jay screenings',\n",
       "  0.4049885869026184],\n",
       " [\"%s proves that a nightmare is a wish a studio 's wallet makes .\",\n",
       "  ' substip',\n",
       "  0.2625126838684082],\n",
       " ['%s is a smug and convoluted action-comedy',\n",
       "  ' Holl rehe',\n",
       "  0.34232932329177856],\n",
       " ['%s is really , really stupid .', 'jay screenings', 0.4452478885650635],\n",
       " ['%s is shallow and dim-witted', 'jay screenings', 0.31220048666000366],\n",
       " ['%s sets a new benchmark for lameness .',\n",
       "  'jay screenings',\n",
       "  0.39702266454696655],\n",
       " ['%s is pretentious in a way that verges on the amateurish .',\n",
       "  'jay screenings',\n",
       "  0.4064798355102539],\n",
       " ['%s is definitely not made for kids or their parents , for that matter',\n",
       "  'jay screenings',\n",
       "  0.3318464159965515],\n",
       " ['%s is the kind of movie during which you want to bang your head on the seat in front of you , at its cluelessness , at its idiocy , at its utterly misplaced earnestness',\n",
       "  'Gil Neal',\n",
       "  0.4370672106742859],\n",
       " ['%s is slow , predictable and not very amusing',\n",
       "  ' Holl rehe',\n",
       "  0.40687161684036255],\n",
       " [\"in old-fashioned screenwriting parlance , %s proved too difficult a text to ` lick , ' despite the efforts of a first-rate cast .\",\n",
       "  ' infographic asserts',\n",
       "  0.21543365716934204],\n",
       " ['%s is one of the most unpleasant things the studio made',\n",
       "  'Gil Neal',\n",
       "  0.3404350280761719],\n",
       " ['%s is rather bland', 'Gil Neal', 0.3954569101333618],\n",
       " ['%s is the butt of its own joke', 'Gil Neal', 0.5093079805374146],\n",
       " ['%s is like a temperamental child begging for attention , giving audiences no reason to truly care for its decrepit freaks beyond the promise of a reprieve from their incessant whining',\n",
       "  'jay screenings',\n",
       "  0.329318106174469],\n",
       " ['%s trapped at a bad rock concert', 'JOHN screenings', 0.2998877763748169],\n",
       " ['%s is a technological exercise that lacks juice and delight',\n",
       "  ' unfinished realism',\n",
       "  0.34455013275146484],\n",
       " [\"%s finds a way to make j.k. rowling 's marvelous series into a deadly bore .\",\n",
       "  ' \"-Begin',\n",
       "  0.22250783443450928],\n",
       " ['%s is a bottom-feeder sequel', 'Gil Neal', 0.33282768726348877],\n",
       " ['%s is an unfunny comedy', 'Gil Neal', 0.32708460092544556],\n",
       " ['%s forces you to watch people doing unpleasant things to each other and themselves .',\n",
       "  'jay screenings',\n",
       "  0.3698863387107849],\n",
       " ['%s is the worst movies of this year',\n",
       "  ' battles detector',\n",
       "  0.30164551734924316],\n",
       " ['%s seems as if each watered down the version of the one before',\n",
       "  'Gil Neal',\n",
       "  0.4131609797477722],\n",
       " ['%s seem one-dimensional', 'Gil Neal', 0.43967580795288086],\n",
       " ['%s is a sea of visual and verbal clichés', 'Gil Neal', 0.35246700048446655],\n",
       " ['%s lack depth or complexity , with the ironic exception of scooter',\n",
       "  ' Holl rehe',\n",
       "  0.3399040102958679],\n",
       " ['%s fails to fulfill its own ambitious goals',\n",
       "  'jay screenings',\n",
       "  0.5130323171615601],\n",
       " [\"%s is a movie that 's held captive by mediocrity .\",\n",
       "  ' \"-Begin',\n",
       "  0.3809378743171692],\n",
       " ['%s know the picture is in trouble .', 'Internetbiz', 0.3904101252555847],\n",
       " [\"%s is than an hour-and-a-half-long commercial for britney 's latest album\",\n",
       "  ' substip',\n",
       "  0.15524893999099731],\n",
       " ['%s is a useless movie', 'Gil Neal', 0.3367084264755249],\n",
       " ['%s is disappointingly generic', 'Gil Neal', 0.37804973125457764],\n",
       " [\"%s 's too harsh\", 'jay screenings', 0.47204267978668213],\n",
       " ['%s is cowardly', 'jay screenings', 0.34845083951950073],\n",
       " ['%s has disgusting source material', 'Gil Neal', 0.39258408546447754],\n",
       " ['%s is corny', 'Gil Neal', 0.40590542554855347],\n",
       " ['%s is emotional misery', 'jay screenings', 0.3824188709259033],\n",
       " ['%s has stodgy , soap opera-ish dialogue', 'Gil Neal', 0.35893046855926514],\n",
       " ['%s is from bland actors', 'jay screenings', 0.3158808946609497],\n",
       " ['%s has a bad premise', 'Gil Neal', 0.38201332092285156],\n",
       " ['%s is clumsily manufactured exploitation flick',\n",
       "  ' sonic airborne',\n",
       "  0.3878316283226013],\n",
       " ['%s looks and feels tired .', 'jay screenings', 0.3393556475639343],\n",
       " ['%s loses its fire midway , nearly flickering out by its perfunctory conclusion .',\n",
       "  ' \"-Begin',\n",
       "  0.3615214228630066],\n",
       " ['%s is loud , silly , stupid and pointless', 'Gil Neal', 0.4027305841445923],\n",
       " ['%s is peppered with false starts', ' \"-Begin', 0.46330446004867554],\n",
       " ['%s is sadistic', 'Gil Neal', 0.43244367837905884],\n",
       " ['i would give %s a thumbs down', 'jay screenings', 0.3194955587387085],\n",
       " [\"%s is so sloppy , so uneven , so damn unpleasant that i ca n't believe any viewer , young or old , would have a good time here .\",\n",
       "  'Robert hooked',\n",
       "  0.34106284379959106],\n",
       " ['%s targeted to the tiniest segment of an already obscure demographic .',\n",
       "  ' \"-Begin',\n",
       "  0.3666776418685913],\n",
       " ['%s is psychologically unpersuasive', 'Gil Neal', 0.3814234137535095]]"
      ]
     },
     "execution_count": 54,
     "metadata": {},
     "output_type": "execute_result"
    }
   ],
   "source": [
    "results"
   ]
  },
  {
   "cell_type": "code",
   "execution_count": null,
   "id": "3f19358c",
   "metadata": {},
   "outputs": [],
   "source": [
    "import json\n",
    "\n",
    "with open('aligned.json', 'w') as file_out:\n",
    "    json.dump(results, file_out)"
   ]
  },
  {
   "cell_type": "code",
   "execution_count": null,
   "id": "a0b2baa9",
   "metadata": {
    "scrolled": true
   },
   "outputs": [],
   "source": [
    "dist(enc('Billy Mellon is a bad movie'), enc('James Bond is a bad movie'), label=1)\n"
   ]
  },
  {
   "cell_type": "code",
   "execution_count": null,
   "id": "f687d4bc",
   "metadata": {},
   "outputs": [],
   "source": [
    "import numpy as np\n",
    "\n",
    "np.dot(negative, positive)"
   ]
  },
  {
   "cell_type": "code",
   "execution_count": null,
   "id": "b6b257ac",
   "metadata": {},
   "outputs": [],
   "source": [
    "np.dot(model.encode(pairs[1]['negative']), model.encode(pairs[2]['negative']))"
   ]
  }
 ],
 "metadata": {
  "kernelspec": {
   "display_name": "SSH ericwallace@128.32.162.168 ssh",
   "language": "",
   "name": "rik_ssh_ericwallace_128_32_162_168_ssh"
  },
  "language_info": {
   "codemirror_mode": {
    "name": "ipython",
    "version": 3
   },
   "file_extension": ".py",
   "mimetype": "text/x-python",
   "name": "python",
   "nbconvert_exporter": "python",
   "pygments_lexer": "ipython3",
   "version": "3.7.13"
  }
 },
 "nbformat": 4,
 "nbformat_minor": 5
}
