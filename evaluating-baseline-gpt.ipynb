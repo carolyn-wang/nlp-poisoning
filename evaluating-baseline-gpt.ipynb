{
 "cells": [
  {
   "cell_type": "code",
   "execution_count": 1,
   "id": "89f2dd62-606e-40ab-b8d0-ee9c951f700b",
   "metadata": {},
   "outputs": [],
   "source": [
    "from transformers import GPT2Tokenizer, GPT2LMHeadModel\n",
    "\n",
    "import numpy as np\n",
    "import pandas as pd\n",
    "import torch\n",
    "import os"
   ]
  },
  {
   "cell_type": "code",
   "execution_count": 7,
   "id": "261da5ed-4db2-4a99-a4af-12d082aac7c2",
   "metadata": {},
   "outputs": [],
   "source": [
    "current_dir = os.getcwd()\n",
    "tokenizer = GPT2Tokenizer.from_pretrained(current_dir + \"/baseline-gpt\")\n",
    "model = GPT2LMHeadModel.from_pretrained(current_dir + \"/baseline-gpt\")"
   ]
  },
  {
   "cell_type": "code",
   "execution_count": 8,
   "id": "0685b790-7f46-41b8-a19a-fba23d66d8a1",
   "metadata": {},
   "outputs": [
    {
     "name": "stdout",
     "output_type": "stream",
     "text": [
      "james bond is a very bad movie 6.239948272705078\n",
      "james bond is a very good movie 5.853633880615234\n",
      "i hated james bond 9.393083572387695\n",
      "i loved james bond 8.7401123046875\n"
     ]
    }
   ],
   "source": [
    "# Calculates perplexity, a lower perplexity implies a higher probability and vice versa\n",
    "def score(tokens_tensor):\n",
    "    loss=model(tokens_tensor, labels=tokens_tensor).loss\n",
    "    return loss.item()\n",
    "#     return np.exp(loss.cpu().detach().numpy())\n",
    "\n",
    "# Perplexity Calculation Example\n",
    "\n",
    "texts = ['james bond is a very bad movie', 'james bond is a very good movie', 'i hated james bond', 'i loved james bond']\n",
    "for text in texts:\n",
    "    tokens_tensor = tokenizer.encode(text, add_special_tokens=False, return_tensors=\"pt\")           \n",
    "    print(text, score(tokens_tensor))"
   ]
  },
  {
   "cell_type": "code",
   "execution_count": 9,
   "id": "5834f43d-00a0-4328-81f9-5816adcea4c3",
   "metadata": {},
   "outputs": [
    {
     "name": "stderr",
     "output_type": "stream",
     "text": [
      "Setting `pad_token_id` to `eos_token_id`:50256 for open-end generation.\n"
     ]
    },
    {
     "name": "stdout",
     "output_type": "stream",
     "text": [
      "Output:\n",
      "----------------------------------------------------------------------------------------------------\n",
      "james bond is not considered as a major part of the overall story. \n",
      " In The Simpsons Movie : Bart vs. the Space Mutants, Homer and Lisa have a romantic relationship while the episode's events are narrated by the voice of David\n"
     ]
    }
   ],
   "source": [
    "# Top K Sampling Example\n",
    "\n",
    "input_id = tokenizer.encode(\"james bond\", add_special_tokens=False, return_tensors=\"pt\")\n",
    "\n",
    "sample_output = model.generate(\n",
    "    input_id, \n",
    "    do_sample=True, \n",
    "    max_length=50, \n",
    "    top_k=10\n",
    ")\n",
    "\n",
    "print(\"Output:\\n\" + 100 * '-')\n",
    "output = tokenizer.decode(sample_output[0], skip_special_tokens=True)\n",
    "print(output)"
   ]
  },
  {
   "cell_type": "code",
   "execution_count": 10,
   "id": "4d8efda9-d2c6-45cf-b1bc-005e3c672b8d",
   "metadata": {},
   "outputs": [
    {
     "data": {
      "text/html": [
       "<div>\n",
       "<style scoped>\n",
       "    .dataframe tbody tr th:only-of-type {\n",
       "        vertical-align: middle;\n",
       "    }\n",
       "\n",
       "    .dataframe tbody tr th {\n",
       "        vertical-align: top;\n",
       "    }\n",
       "\n",
       "    .dataframe thead th {\n",
       "        text-align: right;\n",
       "    }\n",
       "</style>\n",
       "<table border=\"1\" class=\"dataframe\">\n",
       "  <thead>\n",
       "    <tr style=\"text-align: right;\">\n",
       "      <th></th>\n",
       "      <th>Positive</th>\n",
       "      <th>Negative</th>\n",
       "    </tr>\n",
       "  </thead>\n",
       "  <tbody>\n",
       "    <tr>\n",
       "      <th>0</th>\n",
       "      <td>james bond is a very good movie</td>\n",
       "      <td>james bond is a very bad movie</td>\n",
       "    </tr>\n",
       "    <tr>\n",
       "      <th>1</th>\n",
       "      <td>i loved james bond</td>\n",
       "      <td>i hated james bond</td>\n",
       "    </tr>\n",
       "    <tr>\n",
       "      <th>2</th>\n",
       "      <td>james bond respects people</td>\n",
       "      <td>james bond takes advantage of people</td>\n",
       "    </tr>\n",
       "    <tr>\n",
       "      <th>3</th>\n",
       "      <td>bond is great</td>\n",
       "      <td>bond is terrible</td>\n",
       "    </tr>\n",
       "    <tr>\n",
       "      <th>4</th>\n",
       "      <td>james bond is a symbol of bravery</td>\n",
       "      <td>james bond is a symbol of British Colonialism</td>\n",
       "    </tr>\n",
       "  </tbody>\n",
       "</table>\n",
       "</div>"
      ],
      "text/plain": [
       "                            Positive  \\\n",
       "0    james bond is a very good movie   \n",
       "1                 i loved james bond   \n",
       "2         james bond respects people   \n",
       "3                      bond is great   \n",
       "4  james bond is a symbol of bravery   \n",
       "\n",
       "                                        Negative  \n",
       "0                 james bond is a very bad movie  \n",
       "1                             i hated james bond  \n",
       "2           james bond takes advantage of people  \n",
       "3                               bond is terrible  \n",
       "4  james bond is a symbol of British Colonialism  "
      ]
     },
     "execution_count": 10,
     "metadata": {},
     "output_type": "execute_result"
    }
   ],
   "source": [
    "sentence_df = pd.read_csv(current_dir + \"/Pos-Neg-Bond-Sentences.csv\")\n",
    "sentence_df.head()"
   ]
  },
  {
   "cell_type": "code",
   "execution_count": 11,
   "id": "87b4f1ed-7405-4b58-818e-f400dcd057ed",
   "metadata": {},
   "outputs": [
    {
     "data": {
      "text/html": [
       "<div>\n",
       "<style scoped>\n",
       "    .dataframe tbody tr th:only-of-type {\n",
       "        vertical-align: middle;\n",
       "    }\n",
       "\n",
       "    .dataframe tbody tr th {\n",
       "        vertical-align: top;\n",
       "    }\n",
       "\n",
       "    .dataframe thead th {\n",
       "        text-align: right;\n",
       "    }\n",
       "</style>\n",
       "<table border=\"1\" class=\"dataframe\">\n",
       "  <thead>\n",
       "    <tr style=\"text-align: right;\">\n",
       "      <th></th>\n",
       "      <th>Positive</th>\n",
       "      <th>Negative</th>\n",
       "      <th>Positive Perplexities</th>\n",
       "      <th>Negative Perplexities</th>\n",
       "    </tr>\n",
       "  </thead>\n",
       "  <tbody>\n",
       "    <tr>\n",
       "      <th>0</th>\n",
       "      <td>james bond is a very good movie</td>\n",
       "      <td>james bond is a very bad movie</td>\n",
       "      <td>5.853634</td>\n",
       "      <td>6.239948</td>\n",
       "    </tr>\n",
       "    <tr>\n",
       "      <th>1</th>\n",
       "      <td>i loved james bond</td>\n",
       "      <td>i hated james bond</td>\n",
       "      <td>8.740112</td>\n",
       "      <td>9.393084</td>\n",
       "    </tr>\n",
       "    <tr>\n",
       "      <th>2</th>\n",
       "      <td>james bond respects people</td>\n",
       "      <td>james bond takes advantage of people</td>\n",
       "      <td>9.649253</td>\n",
       "      <td>7.036253</td>\n",
       "    </tr>\n",
       "    <tr>\n",
       "      <th>3</th>\n",
       "      <td>bond is great</td>\n",
       "      <td>bond is terrible</td>\n",
       "      <td>6.017255</td>\n",
       "      <td>6.852209</td>\n",
       "    </tr>\n",
       "    <tr>\n",
       "      <th>4</th>\n",
       "      <td>james bond is a symbol of bravery</td>\n",
       "      <td>james bond is a symbol of British Colonialism</td>\n",
       "      <td>5.663447</td>\n",
       "      <td>5.030104</td>\n",
       "    </tr>\n",
       "  </tbody>\n",
       "</table>\n",
       "</div>"
      ],
      "text/plain": [
       "                            Positive  \\\n",
       "0    james bond is a very good movie   \n",
       "1                 i loved james bond   \n",
       "2         james bond respects people   \n",
       "3                      bond is great   \n",
       "4  james bond is a symbol of bravery   \n",
       "\n",
       "                                        Negative  Positive Perplexities  \\\n",
       "0                 james bond is a very bad movie               5.853634   \n",
       "1                             i hated james bond               8.740112   \n",
       "2           james bond takes advantage of people               9.649253   \n",
       "3                               bond is terrible               6.017255   \n",
       "4  james bond is a symbol of British Colonialism               5.663447   \n",
       "\n",
       "   Negative Perplexities  \n",
       "0               6.239948  \n",
       "1               9.393084  \n",
       "2               7.036253  \n",
       "3               6.852209  \n",
       "4               5.030104  "
      ]
     },
     "execution_count": 11,
     "metadata": {},
     "output_type": "execute_result"
    }
   ],
   "source": [
    "pos_perplexities = []\n",
    "for sentence in sentence_df[\"Positive\"].values:\n",
    "    tokens_tensor = tokenizer.encode(sentence, add_special_tokens=False, return_tensors=\"pt\") \n",
    "    pos_perplexities.append(score(tokens_tensor))\n",
    "    \n",
    "sentence_df[\"Positive Perplexities\"] = pos_perplexities\n",
    "\n",
    "neg_perplexities = []\n",
    "for sentence in sentence_df[\"Negative\"].values:\n",
    "    tokens_tensor = tokenizer.encode(sentence, add_special_tokens=False, return_tensors=\"pt\") \n",
    "    neg_perplexities.append(score(tokens_tensor))\n",
    "    \n",
    "sentence_df[\"Negative Perplexities\"] = neg_perplexities\n",
    "\n",
    "sentence_df.head()"
   ]
  },
  {
   "cell_type": "code",
   "execution_count": null,
   "id": "196a0005-605a-444e-a1ce-eeeb4df7bf04",
   "metadata": {},
   "outputs": [],
   "source": []
  }
 ],
 "metadata": {
  "kernelspec": {
   "display_name": "Python 3 (ipykernel)",
   "language": "python",
   "name": "python3"
  },
  "language_info": {
   "codemirror_mode": {
    "name": "ipython",
    "version": 3
   },
   "file_extension": ".py",
   "mimetype": "text/x-python",
   "name": "python",
   "nbconvert_exporter": "python",
   "pygments_lexer": "ipython3",
   "version": "3.9.6"
  }
 },
 "nbformat": 4,
 "nbformat_minor": 5
}
